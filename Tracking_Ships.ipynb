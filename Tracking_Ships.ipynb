{
 "cells": [
  {
   "cell_type": "markdown",
   "metadata": {
    "colab_type": "text",
    "id": "UIHN1yVP4iHY"
   },
   "source": [
    "# Importing Libraries"
   ]
  },
  {
   "cell_type": "code",
   "execution_count": 1,
   "metadata": {
    "colab": {},
    "colab_type": "code",
    "id": "DVtnGYaw4ntt"
   },
   "outputs": [],
   "source": [
    "import torch\n",
    "import torch.nn as nn\n",
    "import torch.nn.functional as F\n",
    "import torch.optim as optim"
   ]
  },
  {
   "cell_type": "code",
   "execution_count": 2,
   "metadata": {
    "colab": {},
    "colab_type": "code",
    "id": "iWYuwTOkOCK1"
   },
   "outputs": [],
   "source": [
    "import numpy as np\n",
    "import pandas as pd\n",
    "import matplotlib.pyplot as plt"
   ]
  },
  {
   "cell_type": "markdown",
   "metadata": {
    "colab_type": "text",
    "id": "fSAAKkgP4y0I"
   },
   "source": [
    "# Data Loading"
   ]
  },
  {
   "cell_type": "code",
   "execution_count": 3,
   "metadata": {
    "colab": {},
    "colab_type": "code",
    "id": "zXO80ko0UhdP"
   },
   "outputs": [],
   "source": [
    "TruthFrequencyEvents_df = pd.read_csv('TruthFrequencyEvents.txt',sep='\\t', names = [\"data\"])\n",
    "FrequencyEvents_df = pd.read_csv('FrequencyEvents.txt',sep='\\t', names = [\"data\"])\n",
    "TruthBearingEvents_df = pd.read_csv('TruthBearingEvents.txt',sep='\\t', names = [\"data\"])\n",
    "BearingEvents_df = pd.read_csv('BearingEvents.txt',sep='\\t', names = [\"data\"])\n",
    "TargetPositions_df = pd.read_csv('TargetPositions.txt',sep='\\t', names = [\"data\"])"
   ]
  },
  {
   "cell_type": "markdown",
   "metadata": {
    "colab_type": "text",
    "id": "3r8wgKB-44ol"
   },
   "source": [
    "# Data Preprocessing"
   ]
  },
  {
   "cell_type": "code",
   "execution_count": 4,
   "metadata": {
    "colab": {},
    "colab_type": "code",
    "id": "Pgs3yvRnOZy-"
   },
   "outputs": [],
   "source": [
    "TruthBearingEvents=[]\n",
    "for _, row in TruthBearingEvents_df.iterrows():\n",
    "  temp = row[\"data\"].split()\n",
    "  temp[0] = float(temp[0])\n",
    "  temp[1] = float(temp[1])\n",
    "  temp[2] = float(temp[2])\n",
    "  if not(temp[0]==0 and temp[1]==0 and temp[2]==0):\n",
    "    TruthBearingEvents.append(temp)"
   ]
  },
  {
   "cell_type": "code",
   "execution_count": 5,
   "metadata": {
    "colab": {},
    "colab_type": "code",
    "id": "rihUUbSFPNAE"
   },
   "outputs": [],
   "source": [
    "TruthFrequencyEvents=[]\n",
    "for _, row in TruthFrequencyEvents_df.iterrows():\n",
    "  temp = row[\"data\"].split()\n",
    "  temp[0] = float(temp[0])\n",
    "  temp[1] = float(temp[1])\n",
    "  if not(temp[0]==0 and temp[1]==0 and temp[2]=='0'):\n",
    "    TruthFrequencyEvents.append(temp)\n",
    "# SNR is not converted to float because of missing values"
   ]
  },
  {
   "cell_type": "code",
   "execution_count": 6,
   "metadata": {
    "colab": {},
    "colab_type": "code",
    "id": "SuWmGh8b6l2L"
   },
   "outputs": [],
   "source": [
    "TargetPositions=[]\n",
    "for _, row in TargetPositions_df.iterrows():\n",
    "  temp = row[\"data\"].split()\n",
    "  for i in range(len(temp)):\n",
    "    temp[i]=float(temp[i])\n",
    "  TargetPositions.append(temp)"
   ]
  },
  {
   "cell_type": "code",
   "execution_count": 7,
   "metadata": {
    "colab": {},
    "colab_type": "code",
    "id": "Jiv6DHqL3be1"
   },
   "outputs": [],
   "source": [
    "T1TruthBearing = []\n",
    "T2TruthBearing = []\n",
    "T3TruthBearing = []\n",
    "T4TruthBearing = []\n",
    "OTruthBearing = []\n",
    "i=0\n",
    "while i<len(TruthBearingEvents):\n",
    "  T1TruthBearing.append(TruthBearingEvents[i])\n",
    "  T2TruthBearing.append(TruthBearingEvents[i+1])\n",
    "  T3TruthBearing.append(TruthBearingEvents[i+2])\n",
    "  T4TruthBearing.append(TruthBearingEvents[i+3])\n",
    "  OTruthBearing.append(TruthBearingEvents[i+4])\n",
    "  i=i+5"
   ]
  },
  {
   "cell_type": "code",
   "execution_count": 8,
   "metadata": {
    "colab": {},
    "colab_type": "code",
    "id": "9Aycjbsd5oYK"
   },
   "outputs": [],
   "source": [
    "T1TruthFrequency = []\n",
    "T2TruthFrequency = []\n",
    "T3TruthFrequency = []\n",
    "T4TruthFrequency = []\n",
    "i=0\n",
    "while i<len(TruthFrequencyEvents):\n",
    "  T1TruthFrequency.append(TruthFrequencyEvents[i])\n",
    "  T1TruthFrequency.append(TruthFrequencyEvents[i+1])\n",
    "  T1TruthFrequency.append(TruthFrequencyEvents[i+2])\n",
    "  T1TruthFrequency.append(TruthFrequencyEvents[i+3])\n",
    "  T2TruthFrequency.append(TruthFrequencyEvents[i+4])\n",
    "  T2TruthFrequency.append(TruthFrequencyEvents[i+5])\n",
    "  T2TruthFrequency.append(TruthFrequencyEvents[i+6])\n",
    "  T2TruthFrequency.append(TruthFrequencyEvents[i+7])\n",
    "  T3TruthFrequency.append(TruthFrequencyEvents[i+8])\n",
    "  T3TruthFrequency.append(TruthFrequencyEvents[i+9])\n",
    "  T3TruthFrequency.append(TruthFrequencyEvents[i+10])\n",
    "  T3TruthFrequency.append(TruthFrequencyEvents[i+11])\n",
    "  T4TruthFrequency.append(TruthFrequencyEvents[i+12])\n",
    "  T4TruthFrequency.append(TruthFrequencyEvents[i+13])\n",
    "  T4TruthFrequency.append(TruthFrequencyEvents[i+14])\n",
    "  T4TruthFrequency.append(TruthFrequencyEvents[i+15])\n",
    "  i=i+16"
   ]
  },
  {
   "cell_type": "code",
   "execution_count": 9,
   "metadata": {
    "colab": {},
    "colab_type": "code",
    "id": "rTNfKgZe40iM"
   },
   "outputs": [],
   "source": [
    "T1Position = []\n",
    "T2Position = []\n",
    "T3Position = []\n",
    "T4Position = []\n",
    "OPosition = []\n",
    "for i in range(len(TargetPositions)):\n",
    "  T1Position.append([TargetPositions[i][0],TargetPositions[i][1],TargetPositions[i][2],TargetPositions[i][3]])\n",
    "  T2Position.append([TargetPositions[i][0],TargetPositions[i][4],TargetPositions[i][5],TargetPositions[i][6]])\n",
    "  T3Position.append([TargetPositions[i][0],TargetPositions[i][7],TargetPositions[i][8],TargetPositions[i][9]])\n",
    "  T4Position.append([TargetPositions[i][0],TargetPositions[i][10],TargetPositions[i][11],TargetPositions[i][12]])\n",
    "  OPosition.append([TargetPositions[i][0],TargetPositions[i][13],TargetPositions[i][14],TargetPositions[i][15]])"
   ]
  },
  {
   "cell_type": "code",
   "execution_count": 10,
   "metadata": {
    "colab": {},
    "colab_type": "code",
    "id": "X0ACADnkUsD9"
   },
   "outputs": [],
   "source": [
    "#Replace NaN values in truth frequency with Mean\n",
    "t = 0\n",
    "for i in range(len(T4TruthFrequency)):\n",
    "  x = (T4TruthFrequency[i][2:3])[0]\n",
    "  if(x!='-1.#INF'):\n",
    "    t=t+float(x)\n",
    "#mean\n",
    "mean_t = t/len(T4TruthFrequency)\n",
    "for i in T4TruthFrequency:\n",
    "  if i[2]!='-1.#INF':\n",
    "    i[2]=float(i[2])\n",
    "  else:\n",
    "    i[2]=mean_t"
   ]
  },
  {
   "cell_type": "code",
   "execution_count": 11,
   "metadata": {
    "colab": {},
    "colab_type": "code",
    "id": "ul9lDblNHfyv"
   },
   "outputs": [],
   "source": [
    "#Convert remaining Truth Frequency events to float\n",
    "for i in T1TruthFrequency:\n",
    "    i[2]=float(i[2])\n",
    "for i in T2TruthFrequency:\n",
    "    i[2]=float(i[2])\n",
    "for i in T3TruthFrequency:\n",
    "    i[2]=float(i[2])"
   ]
  },
  {
   "cell_type": "markdown",
   "metadata": {
    "colab_type": "text",
    "id": "GvjDrtsl1Iii"
   },
   "source": [
    "# ANN for Target 1"
   ]
  },
  {
   "cell_type": "code",
   "execution_count": 0,
   "metadata": {
    "colab": {},
    "colab_type": "code",
    "id": "xElQZtfuWtF2"
   },
   "outputs": [],
   "source": [
    "#Dataset\n",
    "X = []\n",
    "for i in range(len(T1TruthFrequency)):\n",
    "  y=[]\n",
    "  y.append(T1TruthBearing[i][0],T1TruthBearing[i][1],T1TruthBearing[i][2], )"
   ]
  }
 ],
 "metadata": {
  "accelerator": "GPU",
  "colab": {
   "name": "DOP.ipynb",
   "provenance": [],
   "version": "0.3.2"
  },
  "kernelspec": {
   "display_name": "Python 3",
   "language": "python",
   "name": "python3"
  },
  "language_info": {
   "codemirror_mode": {
    "name": "ipython",
    "version": 3
   },
   "file_extension": ".py",
   "mimetype": "text/x-python",
   "name": "python",
   "nbconvert_exporter": "python",
   "pygments_lexer": "ipython3",
   "version": "3.6.6"
  }
 },
 "nbformat": 4,
 "nbformat_minor": 1
}
