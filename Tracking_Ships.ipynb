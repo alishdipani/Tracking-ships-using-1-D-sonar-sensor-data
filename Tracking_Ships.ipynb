{
 "cells": [
  {
   "cell_type": "markdown",
   "metadata": {
    "colab_type": "text",
    "id": "UIHN1yVP4iHY"
   },
   "source": [
    "# Importing Libraries"
   ]
  },
  {
   "cell_type": "code",
   "execution_count": 1,
   "metadata": {
    "colab": {},
    "colab_type": "code",
    "id": "DVtnGYaw4ntt"
   },
   "outputs": [],
   "source": [
    "import torch\n",
    "import torch.nn as nn\n",
    "import torch.nn.functional as F\n",
    "import torch.optim as optim"
   ]
  },
  {
   "cell_type": "code",
   "execution_count": 2,
   "metadata": {
    "colab": {},
    "colab_type": "code",
    "id": "iWYuwTOkOCK1"
   },
   "outputs": [],
   "source": [
    "import numpy as np\n",
    "import pandas as pd\n",
    "import matplotlib.pyplot as plt\n",
    "%matplotlib inline"
   ]
  },
  {
   "cell_type": "markdown",
   "metadata": {
    "colab_type": "text",
    "id": "fSAAKkgP4y0I"
   },
   "source": [
    "# Data Loading"
   ]
  },
  {
   "cell_type": "code",
   "execution_count": 3,
   "metadata": {
    "colab": {},
    "colab_type": "code",
    "id": "zXO80ko0UhdP"
   },
   "outputs": [],
   "source": [
    "TruthFrequencyEvents_df = pd.read_csv('TruthFrequencyEvents.txt',sep='\\t', names = [\"data\"])\n",
    "FrequencyEvents_df = pd.read_csv('FrequencyEvents.txt',sep='\\t', names = [\"data\"])\n",
    "TruthBearingEvents_df = pd.read_csv('TruthBearingEvents.txt',sep='\\t', names = [\"data\"])\n",
    "BearingEvents_df = pd.read_csv('BearingEvents.txt',sep='\\t', names = [\"data\"])\n",
    "TargetPositions_df = pd.read_csv('TargetPositions.txt',sep='\\t', names = [\"data\"])"
   ]
  },
  {
   "cell_type": "markdown",
   "metadata": {
    "colab_type": "text",
    "id": "3r8wgKB-44ol"
   },
   "source": [
    "# Data Preprocessing"
   ]
  },
  {
   "cell_type": "code",
   "execution_count": 4,
   "metadata": {
    "colab": {},
    "colab_type": "code",
    "id": "Pgs3yvRnOZy-"
   },
   "outputs": [],
   "source": [
    "TruthBearingEvents=[]\n",
    "for _, row in TruthBearingEvents_df.iterrows():\n",
    "  temp = row[\"data\"].split()\n",
    "  temp[0] = float(temp[0])\n",
    "  temp[1] = float(temp[1])\n",
    "  temp[2] = float(temp[2])\n",
    "  if not(temp[0]==0 and temp[1]==0 and temp[2]==0):\n",
    "    TruthBearingEvents.append(temp)"
   ]
  },
  {
   "cell_type": "code",
   "execution_count": 5,
   "metadata": {
    "colab": {},
    "colab_type": "code",
    "id": "rihUUbSFPNAE"
   },
   "outputs": [],
   "source": [
    "TruthFrequencyEvents=[]\n",
    "for _, row in TruthFrequencyEvents_df.iterrows():\n",
    "  temp = row[\"data\"].split()\n",
    "  temp[0] = float(temp[0])\n",
    "  temp[1] = float(temp[1])\n",
    "  if not(temp[0]==0 and temp[1]==0 and temp[2]=='0'):\n",
    "    TruthFrequencyEvents.append(temp)\n",
    "# SNR is not converted to float because of missing values"
   ]
  },
  {
   "cell_type": "code",
   "execution_count": 6,
   "metadata": {
    "colab": {},
    "colab_type": "code",
    "id": "SuWmGh8b6l2L"
   },
   "outputs": [],
   "source": [
    "TargetPositions=[]\n",
    "for _, row in TargetPositions_df.iterrows():\n",
    "  temp = row[\"data\"].split()\n",
    "  for i in range(len(temp)):\n",
    "    temp[i]=float(temp[i])\n",
    "  TargetPositions.append(temp)"
   ]
  },
  {
   "cell_type": "code",
   "execution_count": 7,
   "metadata": {
    "colab": {},
    "colab_type": "code",
    "id": "Jiv6DHqL3be1"
   },
   "outputs": [],
   "source": [
    "T1TruthBearing = []\n",
    "T2TruthBearing = []\n",
    "T3TruthBearing = []\n",
    "T4TruthBearing = []\n",
    "OTruthBearing = []\n",
    "i=0\n",
    "while i<len(TruthBearingEvents):\n",
    "  T1TruthBearing.append(TruthBearingEvents[i])\n",
    "  T2TruthBearing.append(TruthBearingEvents[i+1])\n",
    "  T3TruthBearing.append(TruthBearingEvents[i+2])\n",
    "  T4TruthBearing.append(TruthBearingEvents[i+3])\n",
    "  OTruthBearing.append(TruthBearingEvents[i+4])\n",
    "  i=i+5"
   ]
  },
  {
   "cell_type": "code",
   "execution_count": 8,
   "metadata": {
    "colab": {},
    "colab_type": "code",
    "id": "9Aycjbsd5oYK"
   },
   "outputs": [],
   "source": [
    "T1TruthFrequency = []\n",
    "T2TruthFrequency = []\n",
    "T3TruthFrequency = []\n",
    "T4TruthFrequency = []\n",
    "i=0\n",
    "while i<len(TruthFrequencyEvents):\n",
    "  T1TruthFrequency.append(TruthFrequencyEvents[i])\n",
    "  T1TruthFrequency.append(TruthFrequencyEvents[i+1])\n",
    "  T1TruthFrequency.append(TruthFrequencyEvents[i+2])\n",
    "  T1TruthFrequency.append(TruthFrequencyEvents[i+3])\n",
    "  T2TruthFrequency.append(TruthFrequencyEvents[i+4])\n",
    "  T2TruthFrequency.append(TruthFrequencyEvents[i+5])\n",
    "  T2TruthFrequency.append(TruthFrequencyEvents[i+6])\n",
    "  T2TruthFrequency.append(TruthFrequencyEvents[i+7])\n",
    "  T3TruthFrequency.append(TruthFrequencyEvents[i+8])\n",
    "  T3TruthFrequency.append(TruthFrequencyEvents[i+9])\n",
    "  T3TruthFrequency.append(TruthFrequencyEvents[i+10])\n",
    "  T3TruthFrequency.append(TruthFrequencyEvents[i+11])\n",
    "  T4TruthFrequency.append(TruthFrequencyEvents[i+12])\n",
    "  T4TruthFrequency.append(TruthFrequencyEvents[i+13])\n",
    "  T4TruthFrequency.append(TruthFrequencyEvents[i+14])\n",
    "  T4TruthFrequency.append(TruthFrequencyEvents[i+15])\n",
    "  i=i+16"
   ]
  },
  {
   "cell_type": "code",
   "execution_count": 9,
   "metadata": {
    "colab": {},
    "colab_type": "code",
    "id": "rTNfKgZe40iM"
   },
   "outputs": [],
   "source": [
    "T1Position = []\n",
    "T2Position = []\n",
    "T3Position = []\n",
    "T4Position = []\n",
    "OPosition = []\n",
    "for i in range(len(TargetPositions)):\n",
    "  T1Position.append([TargetPositions[i][0],TargetPositions[i][1],TargetPositions[i][2],TargetPositions[i][3]])\n",
    "  T2Position.append([TargetPositions[i][0],TargetPositions[i][4],TargetPositions[i][5],TargetPositions[i][6]])\n",
    "  T3Position.append([TargetPositions[i][0],TargetPositions[i][7],TargetPositions[i][8],TargetPositions[i][9]])\n",
    "  T4Position.append([TargetPositions[i][0],TargetPositions[i][10],TargetPositions[i][11],TargetPositions[i][12]])\n",
    "  OPosition.append([TargetPositions[i][0],TargetPositions[i][13],TargetPositions[i][14],TargetPositions[i][15]])"
   ]
  },
  {
   "cell_type": "code",
   "execution_count": 10,
   "metadata": {
    "colab": {},
    "colab_type": "code",
    "id": "X0ACADnkUsD9"
   },
   "outputs": [],
   "source": [
    "#Replace NaN values in SNR of truth frequency with Mean\n",
    "t = 0\n",
    "for i in range(len(T4TruthFrequency)):\n",
    "  x = (T4TruthFrequency[i][2:3])[0]\n",
    "  if(x!='-1.#INF'):\n",
    "    t=t+float(x)\n",
    "#mean\n",
    "mean_t = t/len(T4TruthFrequency)\n",
    "for i in T4TruthFrequency:\n",
    "  if i[2]!='-1.#INF':\n",
    "    i[2]=float(i[2])\n",
    "  else:\n",
    "    i[2]=mean_t"
   ]
  },
  {
   "cell_type": "code",
   "execution_count": 11,
   "metadata": {
    "colab": {},
    "colab_type": "code",
    "id": "ul9lDblNHfyv"
   },
   "outputs": [],
   "source": [
    "#Convert remaining Truth Frequency events to float\n",
    "for i in T1TruthFrequency:\n",
    "    i[2]=float(i[2])\n",
    "for i in T2TruthFrequency:\n",
    "    i[2]=float(i[2])\n",
    "for i in T3TruthFrequency:\n",
    "    i[2]=float(i[2])"
   ]
  },
  {
   "cell_type": "markdown",
   "metadata": {},
   "source": [
    "# Data Exploration"
   ]
  },
  {
   "cell_type": "code",
   "execution_count": 12,
   "metadata": {},
   "outputs": [
    {
     "data": {
      "image/png": "[encoded data removed]",
      "text/plain": [
       "<Figure size 432x288 with 3 Axes>"
      ]
     },
     "metadata": {
      "needs_background": "light"
     },
     "output_type": "display_data"
    },
    {
     "data": {
      "image/png": "[encoded data removed]",
      "text/plain": [
       "<Figure size 432x288 with 3 Axes>"
      ]
     },
     "metadata": {
      "needs_background": "light"
     },
     "output_type": "display_data"
    },
    {
     "data": {
      "image/png": "[encoded data removed]",
      "text/plain": [
       "<Figure size 432x288 with 3 Axes>"
      ]
     },
     "metadata": {
      "needs_background": "light"
     },
     "output_type": "display_data"
    },
    {
     "data": {
      "image/png": "[encoded data removed]",
      "text/plain": [
       "<Figure size 432x288 with 3 Axes>"
      ]
     },
     "metadata": {
      "needs_background": "light"
     },
     "output_type": "display_data"
    }
   ],
   "source": [
    "#Truth Frequency, Bearing and SNR of T1\n",
    "T1TruthFrequency_t=[]\n",
    "T1TruthFrequency_f=[]\n",
    "T1TruthFrequency_s=[]\n",
    "for i in T1TruthFrequency:\n",
    "    T1TruthFrequency_t.append(i[0])\n",
    "    T1TruthFrequency_f.append(i[1])\n",
    "    T1TruthFrequency_s.append(i[2])\n",
    "T1TruthBearing_t=[]\n",
    "T1TruthBearing_b=[]\n",
    "for i in T1TruthBearing:\n",
    "    T1TruthBearing_t.append(i[0])\n",
    "    T1TruthBearing_b.append(i[1])\n",
    "freq_plot = plt.subplot(3,1,1)\n",
    "freq_plot.set_ylabel('Frequency')\n",
    "freq_plot.set_title(\"Target 1\")\n",
    "freq_plot.scatter(T1TruthFrequency_t,T1TruthFrequency_f)\n",
    "bear_plot = plt.subplot(3,1,2)\n",
    "bear_plot.set_ylabel('Bearing')\n",
    "bear_plot.scatter(T1TruthBearing_t,T1TruthBearing_b)\n",
    "SNR_plot = plt.subplot(3,1,3)\n",
    "SNR_plot.set_xlabel('Time')\n",
    "SNR_plot.set_ylabel('SNR')\n",
    "SNR_plot.scatter(T1TruthFrequency_t,T1TruthFrequency_s)\n",
    "plt.show()\n",
    "\n",
    "#Truth Frequency, Bearing and SNR of T2\n",
    "T2TruthFrequency_t=[]\n",
    "T2TruthFrequency_f=[]\n",
    "T2TruthFrequency_s=[]\n",
    "for i in T2TruthFrequency:\n",
    "    T2TruthFrequency_t.append(i[0])\n",
    "    T2TruthFrequency_f.append(i[1])\n",
    "    T2TruthFrequency_s.append(i[2])\n",
    "T2TruthBearing_t=[]\n",
    "T2TruthBearing_b=[]\n",
    "for i in T2TruthBearing:\n",
    "    T2TruthBearing_t.append(i[0])\n",
    "    T2TruthBearing_b.append(i[1])\n",
    "freq_plot = plt.subplot(3,1,1)\n",
    "freq_plot.set_ylabel('Frequency')\n",
    "freq_plot.set_title(\"Target 2\")\n",
    "freq_plot.scatter(T2TruthFrequency_t,T2TruthFrequency_f)\n",
    "bear_plot = plt.subplot(3,1,2)\n",
    "bear_plot.set_ylabel('Bearing')\n",
    "bear_plot.scatter(T2TruthBearing_t,T2TruthBearing_b)\n",
    "SNR_plot = plt.subplot(3,1,3)\n",
    "SNR_plot.set_xlabel('Time')\n",
    "SNR_plot.set_ylabel('SNR')\n",
    "SNR_plot.scatter(T2TruthFrequency_t,T2TruthFrequency_s)\n",
    "plt.show()\n",
    "\n",
    "#Truth Frequency, Bearing and SNR of T3\n",
    "T3TruthFrequency_t=[]\n",
    "T3TruthFrequency_f=[]\n",
    "T3TruthFrequency_s=[]\n",
    "for i in T3TruthFrequency:\n",
    "    T3TruthFrequency_t.append(i[0])\n",
    "    T3TruthFrequency_f.append(i[1])\n",
    "    T3TruthFrequency_s.append(i[2])\n",
    "T3TruthBearing_t=[]\n",
    "T3TruthBearing_b=[]\n",
    "for i in T3TruthBearing:\n",
    "    T3TruthBearing_t.append(i[0])\n",
    "    T3TruthBearing_b.append(i[1])\n",
    "freq_plot = plt.subplot(3,1,1)\n",
    "freq_plot.set_ylabel('Frequency')\n",
    "freq_plot.set_title(\"Target 3\")\n",
    "freq_plot.scatter(T3TruthFrequency_t,T3TruthFrequency_f)\n",
    "bear_plot = plt.subplot(3,1,2)\n",
    "bear_plot.set_ylabel('Bearing')\n",
    "bear_plot.scatter(T3TruthBearing_t,T3TruthBearing_b)\n",
    "SNR_plot = plt.subplot(3,1,3)\n",
    "SNR_plot.set_xlabel('Time')\n",
    "SNR_plot.set_ylabel('SNR')\n",
    "SNR_plot.scatter(T3TruthFrequency_t,T3TruthFrequency_s)\n",
    "plt.show()\n",
    "\n",
    "#Truth Frequency, Bearing and SNR of T4\n",
    "T4TruthFrequency_t=[]\n",
    "T4TruthFrequency_f=[]\n",
    "T4TruthFrequency_s=[]\n",
    "for i in T4TruthFrequency:\n",
    "    T4TruthFrequency_t.append(i[0])\n",
    "    T4TruthFrequency_f.append(i[1])\n",
    "    T4TruthFrequency_s.append(i[2])\n",
    "T4TruthBearing_t=[]\n",
    "T4TruthBearing_b=[]\n",
    "for i in T4TruthBearing:\n",
    "    T4TruthBearing_t.append(i[0])\n",
    "    T4TruthBearing_b.append(i[1])\n",
    "freq_plot = plt.subplot(3,1,1)\n",
    "freq_plot.set_ylabel('Frequency')\n",
    "freq_plot.set_title(\"Target 4\")\n",
    "freq_plot.scatter(T4TruthFrequency_t,T4TruthFrequency_f)\n",
    "bear_plot = plt.subplot(3,1,2)\n",
    "bear_plot.set_ylabel('Bearing')\n",
    "bear_plot.scatter(T4TruthBearing_t,T4TruthBearing_b)\n",
    "SNR_plot = plt.subplot(3,1,3)\n",
    "SNR_plot.set_xlabel('Time')\n",
    "SNR_plot.set_ylabel('SNR')\n",
    "SNR_plot.scatter(T4TruthFrequency_t,T4TruthFrequency_s)\n",
    "plt.show()"
   ]
  },
  {
   "cell_type": "code",
   "execution_count": 13,
   "metadata": {},
   "outputs": [
    {
     "data": {
      "image/png": "[encoded data removed]",
      "text/plain": [
       "<Figure size 432x288 with 1 Axes>"
      ]
     },
     "metadata": {
      "needs_background": "light"
     },
     "output_type": "display_data"
    },
    {
     "data": {
      "image/png": "[encoded data removed]",
      "text/plain": [
       "<Figure size 432x288 with 1 Axes>"
      ]
     },
     "metadata": {
      "needs_background": "light"
     },
     "output_type": "display_data"
    }
   ],
   "source": [
    "#Paths\n",
    "T1Position_x = []\n",
    "T1Position_y = []\n",
    "for i in T1Position:\n",
    "    T1Position_x.append(i[1])\n",
    "    T1Position_y.append(i[2])\n",
    "T2Position_x = []\n",
    "T2Position_y = []\n",
    "for i in T2Position:\n",
    "    T2Position_x.append(i[1])\n",
    "    T2Position_y.append(i[2])\n",
    "T3Position_x = []\n",
    "T3Position_y = []\n",
    "for i in T3Position:\n",
    "    T3Position_x.append(i[1])\n",
    "    T3Position_y.append(i[2])\n",
    "T4Position_x = []\n",
    "T4Position_y = []\n",
    "for i in T4Position:\n",
    "    T4Position_x.append(i[1])\n",
    "    T4Position_y.append(i[2])\n",
    "OPosition_x = []\n",
    "OPosition_y = []\n",
    "for i in OPosition:\n",
    "    OPosition_x.append(i[1])\n",
    "    OPosition_y.append(i[2])\n",
    "plt.scatter(OPosition_x,OPosition_y,color='k',label='submarine')\n",
    "plt.scatter(T1Position_x,T1Position_y,color='c',label='Target 1')\n",
    "plt.scatter(T2Position_x,T2Position_y,color='y',label='Target 2')\n",
    "plt.scatter(T3Position_x,T3Position_y,color='g',label='Target 3')\n",
    "plt.scatter(T4Position_x,T4Position_y,color='b',label='Target 4')\n",
    "plt.legend()\n",
    "plt.title(\"Paths\")\n",
    "plt.show()\n",
    "\n",
    "#Path of Submarine\n",
    "plt.scatter(OPosition_x,OPosition_y,color='k',label='submarine')\n",
    "plt.title(\"Submarine Path\")\n",
    "plt.show()"
   ]
  },
  {
   "cell_type": "markdown",
   "metadata": {},
   "source": [
    "# ANN"
   ]
  },
  {
   "cell_type": "markdown",
   "metadata": {
    "colab_type": "text",
    "id": "GvjDrtsl1Iii"
   },
   "source": [
    "### ANN for Target 1"
   ]
  },
  {
   "cell_type": "code",
   "execution_count": 45,
   "metadata": {},
   "outputs": [],
   "source": [
    "X = []\n",
    "y = []\n",
    "for i in range(len(T1Position)):\n",
    "    temp = []\n",
    "    #temp.append(T1TruthBearing[i][1])\n",
    "    #temp.append(T1TruthBearing[i][2])\n",
    "    i4=4*i\n",
    "    temp.append(T1TruthFrequency[i4][1])\n",
    "    temp.append(T1TruthFrequency[i4][2])\n",
    "    temp.append(T1TruthFrequency[i4+1][1])\n",
    "    temp.append(T1TruthFrequency[i4+1][2])\n",
    "    temp.append(T1TruthFrequency[i4+2][1])\n",
    "    temp.append(T1TruthFrequency[i4+2][2])\n",
    "    temp.append(T1TruthFrequency[i4+3][1])\n",
    "    temp.append(T1TruthFrequency[i4+3][2])\n",
    "    temp.append(OPosition[i][1])\n",
    "    temp.append(OPosition[i][2])\n",
    "    X.append(temp)\n",
    "    temp = []\n",
    "    temp.append(T1Position[i][1])\n",
    "    temp.append(T1Position[i][2])\n",
    "    y.append(temp)"
   ]
  },
  {
   "cell_type": "code",
   "execution_count": 46,
   "metadata": {},
   "outputs": [],
   "source": [
    "#Train test split\n",
    "import sklearn\n",
    "from sklearn import model_selection\n",
    "X_train, X_test, y_train, y_test = model_selection.train_test_split(X,y,test_size=0.33,random_state=5)"
   ]
  },
  {
   "cell_type": "code",
   "execution_count": 48,
   "metadata": {},
   "outputs": [],
   "source": [
    "# Feature scaling\n",
    "from sklearn import preprocessing\n",
    "scaler = preprocessing.MinMaxScaler()\n",
    "X_train = scaler.fit_transform(X_train)\n",
    "X_test = scaler.fit_transform(X_test)"
   ]
  },
  {
   "cell_type": "code",
   "execution_count": 49,
   "metadata": {},
   "outputs": [
    {
     "name": "stdout",
     "output_type": "stream",
     "text": [
      "221283.81773953617\n"
     ]
    }
   ],
   "source": [
    "#Linear Regression\n",
    "from sklearn.linear_model import LinearRegression\n",
    "clf = LinearRegression().fit(X_train,y_train)\n",
    "from sklearn.metrics import mean_squared_error\n",
    "y_pred = clf.predict(X_test)\n",
    "acc = mean_squared_error(y_test, y_pred)\n",
    "print(acc)"
   ]
  },
  {
   "cell_type": "code",
   "execution_count": 50,
   "metadata": {},
   "outputs": [
    {
     "name": "stdout",
     "output_type": "stream",
     "text": [
      "6987.541233472386\n"
     ]
    }
   ],
   "source": [
    "#ANN\n",
    "from sklearn.neural_network import MLPRegressor\n",
    "clf = MLPRegressor(hidden_layer_sizes=(50,100),solver='lbfgs').fit(X_train,y_train)\n",
    "from sklearn.metrics import mean_squared_error\n",
    "y_pred = clf.predict(X_test)\n",
    "acc = mean_squared_error(y_test, y_pred)\n",
    "print(acc)"
   ]
  },
  {
   "cell_type": "code",
   "execution_count": 51,
   "metadata": {},
   "outputs": [],
   "source": [
    "y_test_x = []\n",
    "y_test_y = []\n",
    "y_pred_x = []\n",
    "y_pred_y = []\n",
    "for i in range(len(y_test)):\n",
    "    y_test_x.append(y_test[i][0])\n",
    "    y_test_y.append(y_test[i][1])\n",
    "    y_pred_x.append(y_pred[i][0])\n",
    "    y_pred_y.append(y_pred[i][1])"
   ]
  },
  {
   "cell_type": "code",
   "execution_count": 52,
   "metadata": {},
   "outputs": [
    {
     "data": {
      "image/png": "[encoded data removed]",
      "text/plain": [
       "<Figure size 432x288 with 2 Axes>"
      ]
     },
     "metadata": {
      "needs_background": "light"
     },
     "output_type": "display_data"
    }
   ],
   "source": [
    "plt.subplot(2,1,1).scatter(y_test_x,y_test_y,color='b',label='Original')\n",
    "plt.subplot(2,1,2).scatter(y_pred_x,y_pred_y,color='k',label='Predicted')\n",
    "plt.legend()\n",
    "plt.show()"
   ]
  },
  {
   "cell_type": "markdown",
   "metadata": {},
   "source": [
    "### ANN for Target 2"
   ]
  },
  {
   "cell_type": "code",
   "execution_count": 77,
   "metadata": {},
   "outputs": [],
   "source": [
    "X = []\n",
    "y = []\n",
    "for i in range(len(T2Position)):\n",
    "    temp = []\n",
    "    temp.append(T2TruthBearing[i][1])\n",
    "    temp.append(T2TruthBearing[i][2])\n",
    "    i4=4*i\n",
    "    temp.append(T2TruthFrequency[i4][1])\n",
    "    temp.append(T2TruthFrequency[i4][2])\n",
    "    temp.append(T2TruthFrequency[i4+1][1])\n",
    "    temp.append(T2TruthFrequency[i4+1][2])\n",
    "    temp.append(T2TruthFrequency[i4+2][1])\n",
    "    temp.append(T2TruthFrequency[i4+2][2])\n",
    "    temp.append(T2TruthFrequency[i4+3][1])\n",
    "    temp.append(T2TruthFrequency[i4+3][2])\n",
    "    temp.append(OPosition[i][1])\n",
    "    temp.append(OPosition[i][2])\n",
    "    X.append(temp)\n",
    "    temp = []\n",
    "    temp.append(T2Position[i][1])\n",
    "    temp.append(T2Position[i][2])\n",
    "    y.append(temp)"
   ]
  },
  {
   "cell_type": "code",
   "execution_count": 78,
   "metadata": {},
   "outputs": [],
   "source": [
    "#Train test split\n",
    "import sklearn\n",
    "from sklearn import model_selection\n",
    "X_train, X_test, y_train, y_test = model_selection.train_test_split(X,y,test_size=0.33,random_state=5)"
   ]
  },
  {
   "cell_type": "code",
   "execution_count": 79,
   "metadata": {},
   "outputs": [],
   "source": [
    "# Feature scaling\n",
    "from sklearn import preprocessing\n",
    "#scaler = preprocessing.MinMaxScaler()\n",
    "scaler = preprocessing.RobustScaler()\n",
    "X_train = scaler.fit_transform(X_train)\n",
    "X_test = scaler.fit_transform(X_test)"
   ]
  },
  {
   "cell_type": "code",
   "execution_count": 80,
   "metadata": {},
   "outputs": [
    {
     "name": "stdout",
     "output_type": "stream",
     "text": [
      "2498867.82822174\n"
     ]
    }
   ],
   "source": [
    "#Linear Regression\n",
    "from sklearn.linear_model import LinearRegression\n",
    "clf = LinearRegression().fit(X_train,y_train)\n",
    "from sklearn.metrics import mean_squared_error\n",
    "y_pred = clf.predict(X_test)\n",
    "acc = mean_squared_error(y_test, y_pred)\n",
    "print(acc)"
   ]
  },
  {
   "cell_type": "code",
   "execution_count": 81,
   "metadata": {},
   "outputs": [
    {
     "name": "stdout",
     "output_type": "stream",
     "text": [
      "276287.30415893375\n"
     ]
    }
   ],
   "source": [
    "#ANN\n",
    "from sklearn.neural_network import MLPRegressor\n",
    "clf = MLPRegressor(hidden_layer_sizes=(50,100),solver='lbfgs').fit(X_train,y_train)\n",
    "from sklearn.metrics import mean_squared_error\n",
    "y_pred = clf.predict(X_test)\n",
    "acc = mean_squared_error(y_test, y_pred)\n",
    "print(acc)"
   ]
  },
  {
   "cell_type": "code",
   "execution_count": 82,
   "metadata": {},
   "outputs": [],
   "source": [
    "y_test_x = []\n",
    "y_test_y = []\n",
    "y_pred_x = []\n",
    "y_pred_y = []\n",
    "for i in range(len(y_test)):\n",
    "    y_test_x.append(y_test[i][0])\n",
    "    y_test_y.append(y_test[i][1])\n",
    "    y_pred_x.append(y_pred[i][0])\n",
    "    y_pred_y.append(y_pred[i][1])"
   ]
  },
  {
   "cell_type": "code",
   "execution_count": 83,
   "metadata": {},
   "outputs": [
    {
     "data": {
      "image/png": "[encoded data removed]",
      "text/plain": [
       "<Figure size 432x288 with 2 Axes>"
      ]
     },
     "metadata": {
      "needs_background": "light"
     },
     "output_type": "display_data"
    }
   ],
   "source": [
    "plt.subplot(2,1,1).scatter(y_test_x,y_test_y,color='b',label='Original')\n",
    "plt.subplot(2,1,2).scatter(y_pred_x,y_pred_y,color='k',label='Predicted')\n",
    "plt.legend()\n",
    "plt.show()"
   ]
  },
  {
   "cell_type": "markdown",
   "metadata": {},
   "source": [
    "### ANN for Target 3"
   ]
  },
  {
   "cell_type": "code",
   "execution_count": 84,
   "metadata": {},
   "outputs": [],
   "source": [
    "X = []\n",
    "y = []\n",
    "for i in range(len(T3Position)):\n",
    "    temp = []\n",
    "    #temp.append(T3TruthBearing[i][1])\n",
    "    #temp.append(T3TruthBearing[i][2])\n",
    "    i4=4*i\n",
    "    temp.append(T3TruthFrequency[i4][1])\n",
    "    #temp.append(T3TruthFrequency[i4][2])\n",
    "    temp.append(T3TruthFrequency[i4+1][1])\n",
    "    #temp.append(T3TruthFrequency[i4+1][2])\n",
    "    temp.append(T3TruthFrequency[i4+2][1])\n",
    "    #temp.append(T3TruthFrequency[i4+2][2])\n",
    "    temp.append(T3TruthFrequency[i4+3][1])\n",
    "    #temp.append(T3TruthFrequency[i4+3][2])\n",
    "    temp.append(OPosition[i][1])\n",
    "    temp.append(OPosition[i][2])\n",
    "    X.append(temp)\n",
    "    temp = []\n",
    "    temp.append(T3Position[i][1])\n",
    "    temp.append(T3Position[i][2])\n",
    "    y.append(temp)"
   ]
  },
  {
   "cell_type": "code",
   "execution_count": 85,
   "metadata": {},
   "outputs": [],
   "source": [
    "#Train test split\n",
    "import sklearn\n",
    "from sklearn import model_selection\n",
    "X_train, X_test, y_train, y_test = model_selection.train_test_split(X,y,test_size=0.33,random_state=5)"
   ]
  },
  {
   "cell_type": "code",
   "execution_count": 86,
   "metadata": {},
   "outputs": [],
   "source": [
    "# Feature scaling\n",
    "from sklearn import preprocessing\n",
    "scaler = preprocessing.MinMaxScaler()\n",
    "X_train = scaler.fit_transform(X_train)\n",
    "X_test = scaler.fit_transform(X_test)"
   ]
  },
  {
   "cell_type": "code",
   "execution_count": 87,
   "metadata": {},
   "outputs": [
    {
     "name": "stdout",
     "output_type": "stream",
     "text": [
      "9407741.183822878\n"
     ]
    }
   ],
   "source": [
    "#Linear Regression\n",
    "from sklearn.linear_model import LinearRegression\n",
    "clf = LinearRegression().fit(X_train,y_train)\n",
    "from sklearn.metrics import mean_squared_error\n",
    "y_pred = clf.predict(X_test)\n",
    "acc = mean_squared_error(y_test, y_pred)\n",
    "print(acc)"
   ]
  },
  {
   "cell_type": "code",
   "execution_count": 88,
   "metadata": {},
   "outputs": [
    {
     "name": "stdout",
     "output_type": "stream",
     "text": [
      "354243.8830927009\n"
     ]
    }
   ],
   "source": [
    "#ANN\n",
    "from sklearn.neural_network import MLPRegressor\n",
    "clf = MLPRegressor(hidden_layer_sizes=(500),solver='lbfgs').fit(X_train,y_train)\n",
    "#clf = MLPRegressor(hidden_layer_sizes=(20,20),solver='adam',max_iter=5000).fit(X_train,y_train)\n",
    "from sklearn.metrics import mean_squared_error\n",
    "y_pred = clf.predict(X_test)\n",
    "acc = mean_squared_error(y_test, y_pred)\n",
    "print(acc)"
   ]
  },
  {
   "cell_type": "code",
   "execution_count": 89,
   "metadata": {},
   "outputs": [],
   "source": [
    "y_test_x = []\n",
    "y_test_y = []\n",
    "y_pred_x = []\n",
    "y_pred_y = []\n",
    "for i in range(len(y_test)):\n",
    "    y_test_x.append(y_test[i][0])\n",
    "    y_test_y.append(y_test[i][1])\n",
    "    y_pred_x.append(y_pred[i][0])\n",
    "    y_pred_y.append(y_pred[i][1])"
   ]
  },
  {
   "cell_type": "code",
   "execution_count": 90,
   "metadata": {},
   "outputs": [
    {
     "data": {
      "image/png": "[encoded data removed]",
      "text/plain": [
       "<Figure size 432x288 with 2 Axes>"
      ]
     },
     "metadata": {
      "needs_background": "light"
     },
     "output_type": "display_data"
    }
   ],
   "source": [
    "plt.subplot(2,1,1).scatter(y_test_x,y_test_y,color='b',label='Original')\n",
    "plt.subplot(2,1,2).scatter(y_pred_x,y_pred_y,color='k',label='Predicted')\n",
    "plt.legend()\n",
    "plt.show()"
   ]
  },
  {
   "cell_type": "markdown",
   "metadata": {},
   "source": [
    "### ANN for Target 4"
   ]
  },
  {
   "cell_type": "code",
   "execution_count": 91,
   "metadata": {},
   "outputs": [],
   "source": [
    "X = []\n",
    "y = []\n",
    "for i in range(len(T4Position)):\n",
    "    temp = []\n",
    "    temp.append(T4TruthBearing[i][1])\n",
    "    temp.append(T4TruthBearing[i][2])\n",
    "    i4=4*i\n",
    "    temp.append(T4TruthFrequency[i4][1])\n",
    "    temp.append(T4TruthFrequency[i4][2])\n",
    "    temp.append(T4TruthFrequency[i4+1][1])\n",
    "    temp.append(T4TruthFrequency[i4+1][2])\n",
    "    temp.append(T4TruthFrequency[i4+2][1])\n",
    "    temp.append(T4TruthFrequency[i4+2][2])\n",
    "    temp.append(T4TruthFrequency[i4+3][1])\n",
    "    temp.append(T4TruthFrequency[i4+3][2])\n",
    "    temp.append(OPosition[i][1])\n",
    "    temp.append(OPosition[i][2])\n",
    "    X.append(temp)\n",
    "    temp = []\n",
    "    temp.append(T4Position[i][1])\n",
    "    temp.append(T4Position[i][2])\n",
    "    y.append(temp)"
   ]
  },
  {
   "cell_type": "code",
   "execution_count": 92,
   "metadata": {},
   "outputs": [],
   "source": [
    "#Train test split\n",
    "import sklearn\n",
    "from sklearn import model_selection\n",
    "X_train, X_test, y_train, y_test = model_selection.train_test_split(X,y,test_size=0.33,random_state=5)"
   ]
  },
  {
   "cell_type": "code",
   "execution_count": 93,
   "metadata": {},
   "outputs": [],
   "source": [
    "# Feature scaling\n",
    "from sklearn import preprocessing\n",
    "scaler = preprocessing.MinMaxScaler()\n",
    "X_train = scaler.fit_transform(X_train)\n",
    "X_test = scaler.fit_transform(X_test)"
   ]
  },
  {
   "cell_type": "code",
   "execution_count": 94,
   "metadata": {},
   "outputs": [
    {
     "name": "stdout",
     "output_type": "stream",
     "text": [
      "393247.27490049816\n"
     ]
    }
   ],
   "source": [
    "#ANN\n",
    "from sklearn.neural_network import MLPRegressor\n",
    "clf = MLPRegressor(hidden_layer_sizes=(50,100),solver='lbfgs').fit(X_train,y_train)\n",
    "from sklearn.metrics import mean_squared_error\n",
    "y_pred = clf.predict(X_test)\n",
    "acc = mean_squared_error(y_test, y_pred)\n",
    "print(acc)"
   ]
  },
  {
   "cell_type": "code",
   "execution_count": 95,
   "metadata": {},
   "outputs": [],
   "source": [
    "y_test_x = []\n",
    "y_test_y = []\n",
    "y_pred_x = []\n",
    "y_pred_y = []\n",
    "for i in range(len(y_test)):\n",
    "    y_test_x.append(y_test[i][0])\n",
    "    y_test_y.append(y_test[i][1])\n",
    "    y_pred_x.append(y_pred[i][0])\n",
    "    y_pred_y.append(y_pred[i][1])"
   ]
  },
  {
   "cell_type": "code",
   "execution_count": 96,
   "metadata": {},
   "outputs": [
    {
     "data": {
      "image/png": "[encoded data removed]",
      "text/plain": [
       "<Figure size 432x288 with 2 Axes>"
      ]
     },
     "metadata": {
      "needs_background": "light"
     },
     "output_type": "display_data"
    }
   ],
   "source": [
    "plt.subplot(2,1,1).scatter(y_test_x,y_test_y,color='b',label='Original')\n",
    "plt.subplot(2,1,2).scatter(y_pred_x,y_pred_y,color='k',label='Predicted')\n",
    "plt.legend()\n",
    "plt.show()"
   ]
  },
  {
   "cell_type": "code",
   "execution_count": null,
   "metadata": {},
   "outputs": [],
   "source": []
  }
 ],
 "metadata": {
  "accelerator": "GPU",
  "colab": {
   "name": "DOP.ipynb",
   "provenance": [],
   "version": "0.3.2"
  },
  "kernelspec": {
   "display_name": "Python 3",
   "language": "python",
   "name": "python3"
  },
  "language_info": {
   "codemirror_mode": {
    "name": "ipython",
    "version": 3
   },
   "file_extension": ".py",
   "mimetype": "text/x-python",
   "name": "python",
   "nbconvert_exporter": "python",
   "pygments_lexer": "ipython3",
   "version": "3.6.6"
  }
 },
 "nbformat": 4,
 "nbformat_minor": 1
}
